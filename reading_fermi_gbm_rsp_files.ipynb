{
 "cells": [
  {
   "cell_type": "code",
   "execution_count": 24,
   "metadata": {},
   "outputs": [],
   "source": [
    "import astropy\n",
    "from astropy.io import fits\n",
    "\n",
    "import glob\n"
   ]
  },
  {
   "cell_type": "markdown",
   "metadata": {},
   "source": [
    "## PyXspec documentation: https://heasarc.gsfc.nasa.gov/docs/xanadu/xspec/python/html/index.html\n",
    "\n",
    "## Data I grabbed (random) - https://heasarc.gsfc.nasa.gov/FTP/fermi/data/gbm/bursts/2018/bn180102660/current/"
   ]
  },
  {
   "cell_type": "markdown",
   "metadata": {},
   "source": [
    "## Grab all the .rsp files in the directory"
   ]
  },
  {
   "cell_type": "code",
   "execution_count": 25,
   "metadata": {},
   "outputs": [],
   "source": [
    "rsp_files = glob.glob('*rsp')"
   ]
  },
  {
   "cell_type": "code",
   "execution_count": 26,
   "metadata": {},
   "outputs": [
    {
     "data": {
      "text/plain": [
       "['glg_ctime_b0_bn180102660_v02.rsp',\n",
       " 'glg_ctime_b1_bn180102660_v02.rsp',\n",
       " 'glg_ctime_nb_bn180102660_v02.rsp',\n",
       " 'glg_ctime_na_bn180102660_v02.rsp',\n",
       " 'glg_cspec_b1_bn180102660_v02.rsp',\n",
       " 'glg_cspec_b0_bn180102660_v02.rsp',\n",
       " 'glg_cspec_na_bn180102660_v02.rsp',\n",
       " 'glg_cspec_nb_bn180102660_v02.rsp',\n",
       " 'glg_cspec_n4_bn180102660_v02.rsp',\n",
       " 'glg_cspec_n5_bn180102660_v02.rsp',\n",
       " 'glg_cspec_n6_bn180102660_v02.rsp',\n",
       " 'glg_cspec_n7_bn180102660_v02.rsp',\n",
       " 'glg_ctime_n9_bn180102660_v02.rsp',\n",
       " 'glg_cspec_n1_bn180102660_v02.rsp',\n",
       " 'glg_ctime_n8_bn180102660_v02.rsp',\n",
       " 'glg_cspec_n0_bn180102660_v02.rsp',\n",
       " 'glg_cspec_n3_bn180102660_v02.rsp',\n",
       " 'glg_cspec_n2_bn180102660_v02.rsp',\n",
       " 'glg_ctime_n7_bn180102660_v02.rsp',\n",
       " 'glg_ctime_n6_bn180102660_v02.rsp',\n",
       " 'glg_ctime_n5_bn180102660_v02.rsp',\n",
       " 'glg_ctime_n4_bn180102660_v02.rsp',\n",
       " 'glg_ctime_n2_bn180102660_v02.rsp',\n",
       " 'glg_ctime_n3_bn180102660_v02.rsp',\n",
       " 'glg_ctime_n0_bn180102660_v02.rsp',\n",
       " 'glg_cspec_n8_bn180102660_v02.rsp',\n",
       " 'glg_ctime_n1_bn180102660_v02.rsp',\n",
       " 'glg_cspec_n9_bn180102660_v02.rsp']"
      ]
     },
     "execution_count": 26,
     "metadata": {},
     "output_type": "execute_result"
    }
   ],
   "source": [
    "rsp_files"
   ]
  },
  {
   "cell_type": "code",
   "execution_count": 27,
   "metadata": {},
   "outputs": [
    {
     "data": {
      "text/plain": [
       "'glg_ctime_b0_bn180102660_v02.rsp'"
      ]
     },
     "execution_count": 27,
     "metadata": {},
     "output_type": "execute_result"
    }
   ],
   "source": [
    "rsp_files[0]"
   ]
  },
  {
   "cell_type": "markdown",
   "metadata": {},
   "source": [
    "## Open one of them with astropy.io.fits\n",
    "\n",
    "* This sets rsp_in as the open fits file, containing all the fits extensions - data and headers"
   ]
  },
  {
   "cell_type": "code",
   "execution_count": 28,
   "metadata": {},
   "outputs": [],
   "source": [
    "rsp_in = fits.open(rsp_files[0])"
   ]
  },
  {
   "cell_type": "code",
   "execution_count": 29,
   "metadata": {},
   "outputs": [
    {
     "data": {
      "text/plain": [
       "[<astropy.io.fits.hdu.image.PrimaryHDU object at 0x8120baeb8>, <astropy.io.fits.hdu.table.BinTableHDU object at 0x8122075c0>, <astropy.io.fits.hdu.table.BinTableHDU object at 0x81220b6d8>]"
      ]
     },
     "execution_count": 29,
     "metadata": {},
     "output_type": "execute_result"
    }
   ],
   "source": [
    "rsp_in"
   ]
  },
  {
   "cell_type": "markdown",
   "metadata": {},
   "source": [
    "## Check which extensions are which\n",
    "\n",
    "* ext[0] - primary header, no data\n",
    "* ext[1] - header and data\n",
    "* ext[2] - header and data"
   ]
  },
  {
   "cell_type": "code",
   "execution_count": 30,
   "metadata": {},
   "outputs": [
    {
     "name": "stdout",
     "output_type": "stream",
     "text": [
      "Filename: glg_ctime_b0_bn180102660_v02.rsp\n",
      "No.    Name      Ver    Type      Cards   Dimensions   Format\n",
      "  0  PRIMARY       1 PrimaryHDU      37   ()      \n",
      "  1  EBOUNDS       1 BinTableHDU     57   8R x 3C   [1I, 1E, 1E]   \n",
      "  2  SPECRESP MATRIX    1 BinTableHDU     67   140R x 6C   [1E, 1E, 1I, PI(1), PI(1), PE(8)]   \n"
     ]
    }
   ],
   "source": [
    "rsp_in.info()"
   ]
  },
  {
   "cell_type": "markdown",
   "metadata": {},
   "source": [
    "### ext[0] header"
   ]
  },
  {
   "cell_type": "code",
   "execution_count": 31,
   "metadata": {},
   "outputs": [
    {
     "data": {
      "text/plain": [
       "SIMPLE  =                    T / file does conform to FITS standard             \n",
       "BITPIX  =                    8 / number of bits per data pixel                  \n",
       "NAXIS   =                    0 / number of data axes                            \n",
       "EXTEND  =                    T / FITS dataset may contain extensions            \n",
       "COMMENT   FITS (Flexible Image Transport System) format is defined in 'Astronomy\n",
       "COMMENT   and Astrophysics', volume 376, page 359; bibcode: 2001A&A...376..359H \n",
       "CREATOR = './GBM_RSP_Gen.pl-1.12  GBMRSP V2.0' / Program creating this file     \n",
       "FILETYPE= 'GBM DRM '                                                            \n",
       "FILE-VER= '1.0.0   '           / Version of FITS file format                    \n",
       "DATE    = '2018-01-02T17:47:28' / file creation date (YYYY-MM-DDThh:mm:ss UT)   \n",
       "FILENAME= 'glg_ctime_b0_bn180102660_v02.rsp' / Name of FITS file                \n",
       "DATE-OBS= '2018-01-02T15:47:39' / YYYY.DDD at start of data                     \n",
       "DATE-END= '2018-01-02T15:57:53' / YYYY.DDD at end of data                       \n",
       "MJDREFI =                51910 / MJD date of reference epoch, integer part      \n",
       "MJDREFF = 7.428703703703703E-04 / MJD date of reference epoch, fractional part  \n",
       "TSTART  =   5.366008590868E+08 / Observation start time relative to MJDREF      \n",
       "TSTOP   =   5.366014734980E+08 / Observation stop time relative to MJDREF       \n",
       "TRIGTIME=     536600992.209176 / Trigger time (s) relative to MJDREF            \n",
       "TIMESYS = 'TT      '           / Time system used in time keywords              \n",
       "TIMEUNIT= 's       '           / Time unit used in TSTART, TSTOP                \n",
       "TELESCOP= 'GLAST   '           / Name of mission / spacecraft                   \n",
       "INSTRUME= 'GBM     '           / Name of instrument generating data             \n",
       "DETNAM  = 'BGO_00  '           / Individual detector name                       \n",
       "OBSERVER= 'Meegan  '           / Principal investigator for GBM                 \n",
       "ORIGIN  = 'GIOC    '           / Name of organization making file               \n",
       "OBJECT  = 'GRB     '           / Object Designation (GRB for bursts, etc.)      \n",
       "RADECSYS= 'FK5     '           / Stellar reference frame                        \n",
       "EQUINOX =               2000.0 / Equinox for RA and Dec                         \n",
       "RA_OBJ  =                203.1 / J2000 RA of source, degrees                    \n",
       "DEC_OBJ =                 62.2 / J2000 DEC of source, degrees                   \n",
       "DRM_NUM =                    1 / Number of DRMs stored in this file             \n",
       "DRM_TYPE= 'CTIME   '           / Data type for which DRM is intended            \n",
       "DIRDRMDB= '/data/fastcopy/GBMDRMdb002/' / Path to direct detector response datab\n",
       "DIRSCTDB= '/data/fastcopy/software//inputs/' / Path to atmospheric scattering da\n",
       "COMMENT This file contains GBM time-sequenced detector response matrices        \n",
       "CHECKSUM= '1rqf2ooZ1oof1ooZ'   / HDU checksum updated 2018-01-02T17:47:32       \n",
       "DATASUM = '         0'         / data unit checksum updated 2018-01-02T17:47:28 "
      ]
     },
     "execution_count": 31,
     "metadata": {},
     "output_type": "execute_result"
    }
   ],
   "source": [
    "rsp_in[0].header"
   ]
  },
  {
   "cell_type": "markdown",
   "metadata": {},
   "source": [
    "### ext[1] header"
   ]
  },
  {
   "cell_type": "code",
   "execution_count": 32,
   "metadata": {},
   "outputs": [
    {
     "data": {
      "text/plain": [
       "XTENSION= 'BINTABLE'           / binary table extension                         \n",
       "BITPIX  =                    8 / 8-bit bytes                                    \n",
       "NAXIS   =                    2 / 2-dimensional binary table                     \n",
       "NAXIS1  =                   10 / width of table in bytes                        \n",
       "NAXIS2  =                    8 / number of rows in table                        \n",
       "PCOUNT  =                    0 / size of special data area                      \n",
       "GCOUNT  =                    1 / one data group (required keyword)              \n",
       "TFIELDS =                    3 / number of fields in each row                   \n",
       "TTYPE1  = 'CHANNEL '           / Detector channel number                        \n",
       "TLMIN1  =                    0 / Channel numbers are non-negative               \n",
       "TLMAX1  =                  130 / More than the number of channels               \n",
       "TFORM1  = '1I      '           / data format of field: 2-byte INTEGER           \n",
       "TTYPE2  = 'E_MIN   '           / Low energy bound for channel                   \n",
       "TLMIN2  =            0.000E+00 / Lowest channel energy                          \n",
       "TLMAX2  =            5.000E+04 / Highest channel energy                         \n",
       "TFORM2  = '1E      '           / data format of field: 4-byte REAL              \n",
       "TUNIT2  = 'keV     '           / physical unit of field                         \n",
       "TTYPE3  = 'E_MAX   '           / High energy bound for channel                  \n",
       "TLMIN3  =            0.000E+00 / Lowest channel energy                          \n",
       "TLMAX3  =            5.000E+04 / Highest channel energy                         \n",
       "TFORM3  = '1E      '           / data format of field: 4-byte REAL              \n",
       "TUNIT3  = 'keV     '           / physical unit of field                         \n",
       "EXTNAME = 'EBOUNDS '           / name of this binary table extension            \n",
       "EXTVER  =                    1 / Version of this extension format               \n",
       "DATE    = '2018-01-02T17:47:28' / file creation date (YYYY-MM-DDThh:mm:ss UT)   \n",
       "DATE-OBS= '2018-01-02T15:47:39' / YYYY.DDD at start of data                     \n",
       "DATE-END= '2018-01-02T15:57:53' / YYYY.DDD at end of data                       \n",
       "MJDREFI =                51910 / MJD date of reference epoch, integer part      \n",
       "MJDREFF = 7.428703703703703E-04 / MJD date of reference epoch, fractional part  \n",
       "TSTART  =   5.366008590868E+08 / Observation start time relative to MJDREF      \n",
       "TSTOP   =   5.366014734980E+08 / Observation stop time relative to MJDREF       \n",
       "TRIGTIME=     536600992.209176 / Trigger time (s) relative to MJDREF            \n",
       "TIMESYS = 'TT      '           / Time system used in time keywords              \n",
       "TIMEUNIT= 's       '           / Time unit used in TSTART, TSTOP                \n",
       "TELESCOP= 'GLAST   '           / Name of mission / spacecraft                   \n",
       "INSTRUME= 'GBM     '           / Name of instrument generating data             \n",
       "DETNAM  = 'BGO_00  '           / Individual detector name                       \n",
       "OBSERVER= 'Meegan  '           / Principal investigator for GBM                 \n",
       "ORIGIN  = 'GIOC    '           / Name of organization making file               \n",
       "OBJECT  = 'GRB     '           / Object Designation (GRB for bursts, etc.)      \n",
       "RADECSYS= 'FK5     '           / Stellar reference frame                        \n",
       "EQUINOX =               2000.0 / Equinox for RA and Dec                         \n",
       "RA_OBJ  =                203.1 / J2000 RA of source, degrees                    \n",
       "DEC_OBJ =                 62.2 / J2000 DEC of source, degrees                   \n",
       "FILTER  = 'none    '           / Not applicable to GBM                          \n",
       "CHANTYPE= 'PHA     '           / No corrections have been applied               \n",
       "DETCHANS=                    8 / Total number of channels in each rate          \n",
       "INFILE01= 'glg_ctime_b0_bn180102660_v00.pha' / The LUT used in the construction \n",
       "GBMCKSUM= 'e4ed    '           / GBM FSW icrc checksum value (hex)              \n",
       "CH2E_VER= 'SPLINE 2.0'         / Channel to energy conversion scheme used       \n",
       "GAIN_COR=           1.00000000 / Gain correction factor applied to energy edges \n",
       "HDUCLASS= 'OGIP    '                                                            \n",
       "HDUVERS = '1.2.0   '                                                            \n",
       "HDUCLAS1= 'RESPONSE'           / Typically found in RMF files                   \n",
       "HDUCLAS2= 'EBOUNDS '           / From CAL/GEN/92-002                            \n",
       "CHECKSUM= '5SAEAS7C8SACAS7C'   / HDU checksum updated 2018-01-02T17:47:28       \n",
       "DATASUM = '1279006949'         / data unit checksum updated 2018-01-02T17:47:28 "
      ]
     },
     "execution_count": 32,
     "metadata": {},
     "output_type": "execute_result"
    }
   ],
   "source": [
    "rsp_in[1].header"
   ]
  },
  {
   "cell_type": "markdown",
   "metadata": {},
   "source": [
    "### ext[2] header"
   ]
  },
  {
   "cell_type": "code",
   "execution_count": 33,
   "metadata": {},
   "outputs": [
    {
     "data": {
      "text/plain": [
       "XTENSION= 'BINTABLE'           / binary table extension                         \n",
       "BITPIX  =                    8 / 8-bit bytes                                    \n",
       "NAXIS   =                    2 / 2-dimensional binary table                     \n",
       "NAXIS1  =                   34 / width of table in bytes                        \n",
       "NAXIS2  =                  140 / number of rows in table                        \n",
       "PCOUNT  =                 5012 / size of special data area                      \n",
       "GCOUNT  =                    1 / one data group (required keyword)              \n",
       "TFIELDS =                    6 / number of fields in each row                   \n",
       "TTYPE1  = 'ENERG_LO'           / Lower energy bound of the energy bin           \n",
       "TFORM1  = '1E      '           / data format of field: 4-byte REAL              \n",
       "TUNIT1  = 'keV     '           / physical unit of field                         \n",
       "TTYPE2  = 'ENERG_HI'           / Upper energy bound of the energy bin           \n",
       "TFORM2  = '1E      '           / data format of field: 4-byte REAL              \n",
       "TUNIT2  = 'keV     '           / physical unit of field                         \n",
       "TTYPE3  = 'N_GRP   '           / The number of channel subsets in this row      \n",
       "TFORM3  = '1I      '           / data format of field: 2-byte INTEGER           \n",
       "TTYPE4  = 'F_CHAN  '           / First channel number of each channel subset    \n",
       "TFORM4  = 'PI(1)   '           / data format of field: variable length array    \n",
       "TTYPE5  = 'N_CHAN  '           / The number of channels in each channel subset  \n",
       "TFORM5  = 'PI(1)   '           / data format of field: variable length array    \n",
       "TTYPE6  = 'MATRIX  '           / The compressed detector response matrix        \n",
       "TFORM6  = 'PE(8)   '           / data format of field: variable length array    \n",
       "TUNIT6  = 'cm**2   '           / physical unit of field                         \n",
       "EXTNAME = 'SPECRESP MATRIX'    / name of this binary table extension            \n",
       "EXTVER  =                    1 / Version of this extension format               \n",
       "DATE    = '2018-01-02T17:47:32' / file creation date (YYYY-MM-DDThh:mm:ss UT)   \n",
       "DATE-OBS= '2018-01-02T15:47:39' / YYYY.DDD at start of data                     \n",
       "DATE-END= '2018-01-02T15:57:53' / YYYY.DDD at end of data                       \n",
       "MJDREFI =                51910 / MJD date of reference epoch, integer part      \n",
       "MJDREFF = 7.428703703703703E-04 / MJD date of reference epoch, fractional part  \n",
       "TSTART  =   5.366008590868E+08 / Observation start time relative to MJDREF      \n",
       "TSTOP   =   5.366014734980E+08 / Observation stop time relative to MJDREF       \n",
       "TRIGTIME=     536600992.209176 / Trigger time (s) relative to MJDREF            \n",
       "TIMESYS = 'TT      '           / Time system used in time keywords              \n",
       "TIMEUNIT= 's       '           / Time unit used in TSTART, TSTOP                \n",
       "TELESCOP= 'GLAST   '           / Name of mission / spacecraft                   \n",
       "INSTRUME= 'GBM     '           / Name of instrument generating data             \n",
       "DETNAM  = 'BGO_00  '           / Individual detector name                       \n",
       "MAT_TYPE= 'Summed  '           / Response Matrix Type                           \n",
       "OBSERVER= 'Meegan  '           / Principal investigator for GBM                 \n",
       "ORIGIN  = 'GIOC    '           / Name of organization making file               \n",
       "RSP_NUM =                    1 / Response matrix index number                   \n",
       "OBJECT  = 'GRB     '           / Object Designation (GRB for bursts, etc.)      \n",
       "RADECSYS= 'FK5     '           / Stellar reference frame                        \n",
       "EQUINOX =               2000.0 / Equinox for RA and Dec                         \n",
       "RA_OBJ  =                203.1 / J2000 RA of source, degrees                    \n",
       "DEC_OBJ =                 62.2 / J2000 DEC of source, degrees                   \n",
       "SRC_AZ  =                283.4 / Azimuth of source in spacecraft coordinates    \n",
       "SRC_EL  =                 29.6 / Elevation of source in spacecraft coordinates  \n",
       "GEO_AZ  =                347.8 / Azimuth of geocenter in spacecraft coordinates \n",
       "GEO_EL  =                -40.0 / Elevation of geocenter in spacecraft coordinate\n",
       "DET_ANG =                 78.3 / Angle between source and spacecraft +X-axis    \n",
       "GEO_ANG =                 41.5 / Angle between geocenter and spacecraft +X-axis \n",
       "FILTER  = 'none    '           / Not applicable to GBM                          \n",
       "CHANTYPE= 'PHA     '           / No corrections have been applied               \n",
       "NUMEBINS=                  140 / Number of true energy bins of the MATRIX       \n",
       "DETCHANS=                    8 / Total number of channels in each rate          \n",
       "INFILE01= 'glg_leaf_b0_z062775_az283364_v10.rsp' / Detector response database in\n",
       "INFILE02= 'glg_leaf_b0_z050075_az285939_v10.rsp' / Detector response database in\n",
       "INFILE03= 'glg_leaf_b0_z055916_az270000_v10.rsp' / Detector response database in\n",
       "INFILE04= 'test_atscatfile_preeinterp_db002.fits' / Atmospheric scattering datab\n",
       "HDUCLASS= 'OGIP    '                                                            \n",
       "HDUVERS = '1.3.0   '                                                            \n",
       "HDUCLAS1= 'RESPONSE'           / Typically found in RMF files                   \n",
       "HDUCLAS2= 'RSP_MATRIX'         / From CAL/GEN/92-002                            \n",
       "CHECKSUM= '7lFd9lFa7lFa7lFa'   / HDU checksum updated 2018-01-02T17:47:32       \n",
       "DATASUM = '994880420'          / data unit checksum updated 2018-01-02T17:47:32 "
      ]
     },
     "execution_count": 33,
     "metadata": {},
     "output_type": "execute_result"
    }
   ],
   "source": [
    "rsp_in[2].header"
   ]
  },
  {
   "cell_type": "markdown",
   "metadata": {},
   "source": [
    "### ext[1] data"
   ]
  },
  {
   "cell_type": "code",
   "execution_count": 34,
   "metadata": {},
   "outputs": [
    {
     "data": {
      "text/plain": [
       "FITS_rec([(0,    113.2480011 ,    451.59799194),\n",
       "          (1,    451.59799194,    973.32702637),\n",
       "          (2,    973.32702637,   2119.65209961),\n",
       "          (3,   2119.65209961,   4591.62402344),\n",
       "          (4,   4591.62402344,   9757.00488281),\n",
       "          (5,   9757.00488281,  21462.5234375 ),\n",
       "          (6,  21462.5234375 ,  37989.234375  ),\n",
       "          (7,  37989.234375  ,  50000.        )],\n",
       "         dtype=(numpy.record, [('CHANNEL', '>i2'), ('E_MIN', '>f4'), ('E_MAX', '>f4')]))"
      ]
     },
     "execution_count": 34,
     "metadata": {},
     "output_type": "execute_result"
    }
   ],
   "source": [
    "rsp_in[1].data"
   ]
  },
  {
   "cell_type": "markdown",
   "metadata": {},
   "source": [
    "### ext[2] data"
   ]
  },
  {
   "cell_type": "code",
   "execution_count": 35,
   "metadata": {},
   "outputs": [
    {
     "data": {
      "text/plain": [
       "FITS_rec([ (  1.00000000e+02,   1.05579002e+02, 1, [   1], [   8], [  14,    0,    0,    0,    0,    0,    0,    0]),\n",
       "          (  1.05579002e+02,   1.11470001e+02, 1, [   1], [   8], [  27,    0,    0,    0,    0,    0,    0,    0]),\n",
       "          (  1.11470001e+02,   1.17689003e+02, 1, [   1], [   8], [  41,    0,    0,    0,    0,    0,    0,    0]),\n",
       "          (  1.17689003e+02,   1.24254997e+02, 1, [   1], [   8], [  58,    0,    0,    0,    0,    0,    0,    0]),\n",
       "          (  1.24254997e+02,   1.31188004e+02, 1, [   1], [   8], [  72,    0,    0,    0,    0,    0,    0,    0]),\n",
       "          (  1.31188004e+02,   1.38507004e+02, 1, [   1], [   8], [  84,    0,    0,    0,    0,    0,    0,    0]),\n",
       "          (  1.38507004e+02,   1.46235001e+02, 1, [   1], [   8], [  92,    0,    0,    0,    0,    0,    0,    0]),\n",
       "          (  1.46235001e+02,   1.54393997e+02, 1, [   1], [   8], [ 100,    0,    0,    0,    0,    0,    0,    0]),\n",
       "          (  1.54393997e+02,   1.63007996e+02, 1, [   1], [   8], [ 106,    0,    0,    0,    0,    0,    0,    0]),\n",
       "          (  1.63007996e+02,   1.72102997e+02, 1, [   1], [   8], [ 113,    0,    0,    0,    0,    0,    0,    0]),\n",
       "          (  1.72102997e+02,   1.81705002e+02, 1, [   1], [   8], [ 119,    0,    0,    0,    0,    0,    0,    0]),\n",
       "          (  1.81705002e+02,   1.91843002e+02, 1, [   1], [   8], [ 126,    0,    0,    0,    0,    0,    0,    0]),\n",
       "          (  1.91843002e+02,   2.02546005e+02, 1, [   1], [   8], [ 133,    0,    0,    0,    0,    0,    0,    0]),\n",
       "          (  2.02546005e+02,   2.13847000e+02, 1, [   1], [   8], [ 138,    0,    0,    0,    0,    0,    0,    0]),\n",
       "          (  2.13847000e+02,   2.25778000e+02, 1, [   1], [   8], [ 143,    0,    0,    0,    0,    0,    0,    0]),\n",
       "          (  2.25778000e+02,   2.38375000e+02, 1, [   1], [   8], [ 146,    0,    0,    0,    0,    0,    0,    0]),\n",
       "          (  2.38375000e+02,   2.51675003e+02, 1, [   1], [   8], [ 149,    0,    0,    0,    0,    0,    0,    0]),\n",
       "          (  2.51675003e+02,   2.65716003e+02, 1, [   1], [   8], [ 153,    0,    0,    0,    0,    0,    0,    0]),\n",
       "          (  2.65716003e+02,   2.80540985e+02, 1, [   1], [   8], [ 156,    0,    0,    0,    0,    0,    0,    0]),\n",
       "          (  2.80540985e+02,   2.96194000e+02, 1, [   1], [   8], [ 159,    0,    0,    0,    0,    0,    0,    0]),\n",
       "          (  2.96194000e+02,   3.12718994e+02, 1, [   1], [   8], [ 160,    0,    0,    0,    0,    0,    0,    0]),\n",
       "          (  3.12718994e+02,   3.30166992e+02, 1, [   1], [   8], [ 162,    0,    0,    0,    0,    0,    0,    0]),\n",
       "          (  3.30166992e+02,   3.48588013e+02, 1, [   1], [   8], [ 165,    0,    0,    0,    0,    0,    0,    0]),\n",
       "          (  3.48588013e+02,   3.68036011e+02, 1, [   1], [   8], [ 166,    0,    0,    0,    0,    0,    0,    0]),\n",
       "          (  3.68036011e+02,   3.88570007e+02, 1, [   1], [   8], [ 167,    0,    0,    0,    0,    0,    0,    0]),\n",
       "          (  3.88570007e+02,   4.10250000e+02, 1, [   1], [   8], [ 167,    4,    0,    0,    0,    0,    0,    0]),\n",
       "          (  4.10250000e+02,   4.33139008e+02, 1, [   1], [   8], [ 158,   19,    0,    0,    0,    0,    0,    0]),\n",
       "          (  4.33139008e+02,   4.57304993e+02, 1, [   1], [   8], [ 134,   49,    0,    0,    0,    0,    0,    0]),\n",
       "          (  4.57304993e+02,   4.82820007e+02, 1, [   1], [   8], [ 100,   83,    0,    0,    0,    0,    0,    0]),\n",
       "          (  4.82820007e+02,   5.09756989e+02, 1, [   1], [   8], [  73,  104,    0,    0,    0,    0,    0,    0]),\n",
       "          (  5.09756989e+02,   5.38197998e+02, 1, [   1], [   8], [  62,  112,    0,    0,    0,    0,    0,    0]),\n",
       "          (  5.38197998e+02,   5.68226013e+02, 1, [   1], [   8], [  57,  118,    0,    0,    0,    0,    0,    0]),\n",
       "          (  5.68226013e+02,   5.99929016e+02, 1, [   1], [   8], [  54,  121,    0,    0,    0,    0,    0,    0]),\n",
       "          (  5.99929016e+02,   6.33401001e+02, 1, [   1], [   8], [  52,  123,    0,    0,    0,    0,    0,    0]),\n",
       "          (  6.33401001e+02,   6.68739990e+02, 1, [   1], [   8], [  50,  126,    0,    0,    0,    0,    0,    0]),\n",
       "          (  6.68739990e+02,   7.06052002e+02, 1, [   1], [   8], [  48,  128,    0,    0,    0,    0,    0,    0]),\n",
       "          (  7.06052002e+02,   7.45443970e+02, 1, [   1], [   8], [  47,  129,    0,    0,    0,    0,    0,    0]),\n",
       "          (  7.45443970e+02,   7.87034973e+02, 1, [   1], [   8], [  46,  131,    0,    0,    0,    0,    0,    0]),\n",
       "          (  7.87034973e+02,   8.30945984e+02, 1, [   1], [   8], [  45,  133,    0,    0,    0,    0,    0,    0]),\n",
       "          (  8.30945984e+02,   8.77307007e+02, 1, [   1], [   8], [  44,  135,    0,    0,    0,    0,    0,    0]),\n",
       "          (  8.77307007e+02,   9.26255005e+02, 1, [   1], [   8], [  43,  133,    8,    0,    0,    0,    0,    0]),\n",
       "          (  9.26255005e+02,   9.77932983e+02, 1, [   1], [   8], [  41,  112,   41,    0,    0,    0,    0,    0]),\n",
       "          (  9.77932983e+02,   1.03248999e+03, 1, [   1], [   8], [  40,   70,   81,    0,    0,    0,    0,    0]),\n",
       "          (  1.03248999e+03,   1.09009998e+03, 1, [   1], [   8], [  38,   43,  100,    0,    0,    0,    0,    0]),\n",
       "          (  1.09009998e+03,   1.15092004e+03, 1, [   1], [   8], [  37,   36,  104,    0,    0,    0,    0,    0]),\n",
       "          (  1.15092004e+03,   1.21513000e+03, 1, [   1], [   8], [  35,   36,  106,    0,    0,    0,    0,    0]),\n",
       "          (  1.21513000e+03,   1.28293005e+03, 1, [   1], [   8], [  35,   34,  108,    0,    0,    0,    0,    0]),\n",
       "          (  1.28293005e+03,   1.35451001e+03, 1, [   1], [   8], [  34,   33,  110,    0,    0,    0,    0,    0]),\n",
       "          (  1.35451001e+03,   1.43007996e+03, 1, [   1], [   8], [  33,   31,  112,    0,    0,    0,    0,    0]),\n",
       "          (  1.43007996e+03,   1.50987000e+03, 1, [   1], [   8], [  32,   30,  114,    0,    0,    0,    0,    0]),\n",
       "          (  1.50987000e+03,   1.59410999e+03, 1, [   1], [   8], [  31,   28,  116,    0,    0,    0,    0,    0]),\n",
       "          (  1.59410999e+03,   1.68305005e+03, 1, [   1], [   8], [  30,   27,  118,    0,    0,    0,    0,    0]),\n",
       "          (  1.68305005e+03,   1.77694995e+03, 1, [   1], [   8], [  30,   25,  120,    0,    0,    0,    0,    0]),\n",
       "          (  1.77694995e+03,   1.87608997e+03, 1, [   1], [   8], [  29,   24,  121,    0,    0,    0,    0,    0]),\n",
       "          (  1.87608997e+03,   1.98077002e+03, 1, [   1], [   8], [  28,   23,  122,    1,    0,    0,    0,    0]),\n",
       "          (  1.98077002e+03,   2.09128003e+03, 1, [   1], [   8], [  28,   22,  116,   18,    0,    0,    0,    0]),\n",
       "          (  2.09128003e+03,   2.20795996e+03, 1, [   1], [   8], [  27,   21,   80,   61,    0,    0,    0,    0]),\n",
       "          (  2.20795996e+03,   2.33114990e+03, 1, [   1], [   8], [  26,   21,   47,   84,    0,    0,    0,    0]),\n",
       "          (  2.33114990e+03,   2.46120996e+03, 1, [   1], [   8], [  26,   20,   40,   89,    0,    0,    0,    0]),\n",
       "          (  2.46120996e+03,   2.59853003e+03, 1, [   1], [   8], [  25,   20,   38,   93,    0,    0,    0,    0]),\n",
       "          (  2.59853003e+03,   2.74351001e+03, 1, [   1], [   8], [  25,   19,   32,  100,    0,    0,    0,    0]),\n",
       "          (  2.74351001e+03,   2.89658008e+03, 1, [   1], [   8], [  25,   19,   27,  105,    0,    0,    0,    0]),\n",
       "          (  2.89658008e+03,   3.05817993e+03, 1, [   1], [   8], [  24,   18,   25,  109,    0,    0,    0,    0]),\n",
       "          (  3.05817993e+03,   3.22881006e+03, 1, [   1], [   8], [  24,   18,   22,  111,    0,    0,    0,    0]),\n",
       "          (  3.22881006e+03,   3.40894995e+03, 1, [   1], [   8], [  24,   18,   20,  113,    0,    0,    0,    0]),\n",
       "          (  3.40894995e+03,   3.59914990e+03, 1, [   1], [   8], [  23,   17,   19,  116,    0,    0,    0,    0]),\n",
       "          (  3.59914990e+03,   3.79995996e+03, 1, [   1], [   8], [  23,   17,   18,  118,    0,    0,    0,    0]),\n",
       "          (  3.79995996e+03,   4.01196997e+03, 1, [   1], [   8], [  23,   17,   17,  119,    0,    0,    0,    0]),\n",
       "          (  4.01196997e+03,   4.23581006e+03, 1, [   1], [   8], [  23,   17,   16,  120,    0,    0,    0,    0]),\n",
       "          (  4.23581006e+03,   4.47214014e+03, 1, [   1], [   8], [  23,   17,   15,  120,    9,    0,    0,    0]),\n",
       "          (  4.47214014e+03,   4.72164990e+03, 1, [   1], [   8], [  23,   17,   14,   98,   51,    0,    0,    0]),\n",
       "          (  4.72164990e+03,   4.98508984e+03, 1, [   1], [   8], [  23,   17,   13,   60,   77,    0,    0,    0]),\n",
       "          (  4.98508984e+03,   5.26322021e+03, 1, [   1], [   8], [  23,   17,   12,   43,   92,    0,    0,    0]),\n",
       "          (  5.26322021e+03,   5.55687012e+03, 1, [   1], [   8], [  23,   17,   12,   31,  101,    0,    0,    0]),\n",
       "          (  5.55687012e+03,   5.86689990e+03, 1, [   1], [   8], [  23,   17,   11,   25,  107,    0,    0,    0]),\n",
       "          (  5.86689990e+03,   6.19424023e+03, 1, [   1], [   8], [  23,   17,   10,   22,  111,    0,    0,    0]),\n",
       "          (  6.19424023e+03,   6.53983008e+03, 1, [   1], [   8], [  24,   18,   10,   20,  114,    0,    0,    0]),\n",
       "          (  6.53983008e+03,   6.90470996e+03, 1, [   1], [   8], [  24,   18,   10,   18,  118,    0,    0,    0]),\n",
       "          (  6.90470996e+03,   7.28995020e+03, 1, [   1], [   8], [  24,   18,    9,   16,  121,    0,    0,    0]),\n",
       "          (  7.28995020e+03,   7.69666992e+03, 1, [   1], [   8], [  24,   19,    9,   15,  123,    0,    0,    0]),\n",
       "          (  7.69666992e+03,   8.12608984e+03, 1, [   1], [   8], [  25,   19,    9,   14,  125,    0,    0,    0]),\n",
       "          (  8.12608984e+03,   8.57946973e+03, 1, [   1], [   8], [  26,   19,    9,   13,  126,    0,    0,    0]),\n",
       "          (  8.57946973e+03,   9.05815039e+03, 1, [   1], [   8], [  27,   19,    9,   12,  127,    0,    0,    0]),\n",
       "          (  9.05815039e+03,   9.56353027e+03, 1, [   1], [   8], [  27,   19,    8,   11,  127,    6,    0,    0]),\n",
       "          (  9.56353027e+03,   1.00970996e+04, 1, [   1], [   8], [  27,   20,    8,   11,  105,   48,    0,    0]),\n",
       "          (  1.00970996e+04,   1.06605000e+04, 1, [   1], [   8], [  28,   20,    8,   10,   63,   83,    0,    0]),\n",
       "          (  1.06605000e+04,   1.12552002e+04, 1, [   1], [   8], [  28,   21,    8,   10,   43,   97,    0,    0]),\n",
       "          (  1.12552002e+04,   1.18832002e+04, 1, [   1], [   8], [  29,   21,    8,    9,   34,  105,    0,    0]),\n",
       "          (  1.18832002e+04,   1.25462002e+04, 1, [   1], [   8], [  29,   21,    8,    9,   29,  114,    0,    0]),\n",
       "          (  1.25462002e+04,   1.32462002e+04, 1, [   1], [   8], [  30,   21,    8,    9,   25,  119,    0,    0]),\n",
       "          (  1.32462002e+04,   1.39852002e+04, 1, [   1], [   8], [  31,   22,    9,    9,   22,  123,    0,    0]),\n",
       "          (  1.39852002e+04,   1.47655000e+04, 1, [   1], [   8], [  31,   22,    9,    9,   20,  126,    0,    0]),\n",
       "          (  1.47655000e+04,   1.55892998e+04, 1, [   1], [   8], [  32,   23,    9,    9,   18,  128,    0,    0]),\n",
       "          (  1.55892998e+04,   1.64590996e+04, 1, [   1], [   8], [  33,   23,    9,    9,   17,  130,    0,    0]),\n",
       "          (  1.64590996e+04,   1.73774004e+04, 1, [   1], [   8], [  34,   24,    9,    9,   16,  132,    0,    0]),\n",
       "          (  1.73774004e+04,   1.83469004e+04, 1, [   1], [   8], [  35,   25,    9,    8,   15,  134,    0,    0]),\n",
       "          (  1.83469004e+04,   1.93705996e+04, 1, [   1], [   8], [  35,   25,    9,    8,   14,  135,    0,    0]),\n",
       "          (  1.93705996e+04,   2.04513008e+04, 1, [   1], [   8], [  36,   25,    9,    8,   14,  136,    0,    0]),\n",
       "          (  2.04513008e+04,   2.15924004e+04, 1, [   1], [   8], [  37,   26,   10,    8,   13,  134,   16,    0]),\n",
       "          (  2.15924004e+04,   2.27970996e+04, 1, [   1], [   8], [  37,   26,   10,    9,   13,  105,   59,    0]),\n",
       "          (  2.27970996e+04,   2.40690000e+04, 1, [   1], [   8], [  38,   26,   10,    8,   13,   74,   81,    0]),\n",
       "          (  2.40690000e+04,   2.54118008e+04, 1, [   1], [   8], [  39,   27,   11,    8,   12,   58,   95,    0]),\n",
       "          (  2.54118008e+04,   2.68296992e+04, 1, [   1], [   8], [  40,   27,   11,    8,   11,   47,  104,    0]),\n",
       "          (  2.68296992e+04,   2.83265996e+04, 1, [   1], [   8], [  41,   28,   11,    9,   11,   41,  110,    0]),\n",
       "          (  2.83265996e+04,   2.99070000e+04, 1, [   1], [   8], [  42,   29,   12,    9,   11,   36,  117,    0]),\n",
       "          (  2.99070000e+04,   3.15755996e+04, 1, [   1], [   8], [  43,   29,   12,    9,   11,   32,  120,    0]),\n",
       "          (  3.15755996e+04,   3.33373008e+04, 1, [   1], [   8], [  44,   30,   13,    9,   11,   29,  123,    0]),\n",
       "          (  3.33373008e+04,   3.51973008e+04, 1, [   1], [   8], [  45,   31,   13,    9,   10,   26,  126,    0]),\n",
       "          (  3.51973008e+04,   3.71610000e+04, 1, [   1], [   8], [  46,   31,   14,    9,   10,   24,  129,    2]),\n",
       "          (  3.71610000e+04,   3.92343984e+04, 1, [   1], [   8], [  47,   32,   14,    9,   10,   23,  121,   24]),\n",
       "          (  3.92343984e+04,   4.14233984e+04, 1, [   1], [   8], [  48,   32,   15,    9,   10,   21,   94,   53]),\n",
       "          (  4.14233984e+04,   4.37345000e+04, 1, [   1], [   8], [  49,   33,   15,   10,   10,   19,   72,   72]),\n",
       "          (  4.37345000e+04,   4.61746016e+04, 1, [   1], [   8], [  50,   33,   16,   10,   10,   18,   58,   84]),\n",
       "          (  4.61746016e+04,   4.87508008e+04, 1, [   1], [   8], [  51,   33,   16,   10,   10,   17,   48,   93]),\n",
       "          (  4.87508008e+04,   5.14706992e+04, 1, [   1], [   8], [  53,   34,   17,   10,    9,   16,   41,   94]),\n",
       "          (  5.14706992e+04,   5.43425000e+04, 1, [   1], [   8], [  54,   35,   18,   11,    9,   15,   35,   75]),\n",
       "          (  5.43425000e+04,   5.73743984e+04, 1, [   1], [   8], [  55,   35,   19,   11,    9,   15,   31,   56]),\n",
       "          (  5.73743984e+04,   6.05755000e+04, 1, [   1], [   8], [  57,   36,   20,   11,    9,   14,   27,   43]),\n",
       "          (  6.05755000e+04,   6.39551992e+04, 1, [   1], [   8], [  58,   37,   21,   12,    9,   14,   24,   35]),\n",
       "          (  6.39551992e+04,   6.75233984e+04, 1, [   1], [   8], [  60,   38,   22,   12,    9,   13,   22,   29]),\n",
       "          (  6.75233984e+04,   7.12907031e+04, 1, [   1], [   8], [  61,   39,   23,   13,    9,   13,   19,   24]),\n",
       "          (  7.12907031e+04,   7.52682031e+04, 1, [   1], [   8], [  62,   41,   24,   13,    9,   13,   18,   21]),\n",
       "          (  7.52682031e+04,   7.94677031e+04, 1, [   1], [   8], [  64,   42,   25,   14,    9,   13,   16,   18]),\n",
       "          (  7.94677031e+04,   8.39015000e+04, 1, [   1], [   8], [  66,   43,   25,   14,   10,   13,   15,   15]),\n",
       "          (  8.39015000e+04,   8.85826016e+04, 1, [   1], [   8], [  67,   44,   26,   15,   10,   13,   14,   13]),\n",
       "          (  8.85826016e+04,   9.35248984e+04, 1, [   1], [   8], [  69,   45,   27,   16,   10,   12,   14,   12]),\n",
       "          (  9.35248984e+04,   9.87428984e+04, 1, [   1], [   8], [  70,   46,   28,   17,   10,   12,   13,   11]),\n",
       "          (  9.87428984e+04,   1.04252000e+05, 1, [   1], [   8], [  72,   47,   29,   18,   11,   12,   12,   10]),\n",
       "          (  1.04252000e+05,   1.10069000e+05, 1, [   1], [   8], [  74,   48,   30,   19,   11,   12,   12,    9]),\n",
       "          (  1.10069000e+05,   1.16210000e+05, 1, [   1], [   8], [  76,   49,   31,   20,   11,   12,   12,    8]),\n",
       "          (  1.16210000e+05,   1.22693000e+05, 1, [   1], [   8], [  79,   51,   32,   22,   12,   12,   11,    8]),\n",
       "          (  1.22693000e+05,   1.29539000e+05, 1, [   1], [   8], [  81,   52,   33,   23,   12,   12,   11,    7]),\n",
       "          (  1.29539000e+05,   1.36766000e+05, 1, [   1], [   8], [  84,   54,   34,   25,   12,   12,   10,    7]),\n",
       "          (  1.36766000e+05,   1.44397000e+05, 1, [   1], [   8], [  86,   56,   35,   26,   12,   12,   10,    6]),\n",
       "          (  1.44397000e+05,   1.52453000e+05, 1, [   1], [   8], [  89,   58,   36,   28,   13,   12,   10,    6]),\n",
       "          (  1.52453000e+05,   1.60959000e+05, 1, [   1], [   8], [  87,   58,   37,   29,   12,   11,    9,    6]),\n",
       "          (  1.60959000e+05,   1.69939000e+05, 1, [   1], [   8], [  84,   57,   37,   30,   12,   11,    9,    5]),\n",
       "          (  1.69939000e+05,   1.79421000e+05, 1, [   1], [   8], [  82,   56,   37,   31,   13,   10,    8,    5]),\n",
       "          (  1.79421000e+05,   1.89431000e+05, 1, [   1], [   8], [  79,   55,   37,   32,   13,   10,    8,    5]),\n",
       "          (  1.89431000e+05,   2.00000000e+05, 1, [   8], [   1], [   0])],\n",
       "         dtype=(numpy.record, [('ENERG_LO', '>f4'), ('ENERG_HI', '>f4'), ('N_GRP', '>i2'), ('F_CHAN', '>i4', (2,)), ('N_CHAN', '>i4', (2,)), ('MATRIX', '>i4', (2,))]))"
      ]
     },
     "execution_count": 35,
     "metadata": {},
     "output_type": "execute_result"
    }
   ],
   "source": [
    "rsp_in[2].data"
   ]
  },
  {
   "cell_type": "markdown",
   "metadata": {},
   "source": [
    "### ext[0] data is empty as expected"
   ]
  },
  {
   "cell_type": "code",
   "execution_count": 36,
   "metadata": {},
   "outputs": [],
   "source": [
    "rsp_in[0].data"
   ]
  },
  {
   "cell_type": "code",
   "execution_count": null,
   "metadata": {},
   "outputs": [],
   "source": []
  }
 ],
 "metadata": {
  "kernelspec": {
   "display_name": "Python 3",
   "language": "python",
   "name": "python3"
  },
  "language_info": {
   "codemirror_mode": {
    "name": "ipython",
    "version": 3
   },
   "file_extension": ".py",
   "mimetype": "text/x-python",
   "name": "python",
   "nbconvert_exporter": "python",
   "pygments_lexer": "ipython3",
   "version": "3.5.1"
  },
  "latex_envs": {
   "LaTeX_envs_menu_present": true,
   "bibliofile": "biblio.bib",
   "cite_by": "apalike",
   "current_citInitial": 1,
   "eqLabelWithNumbers": true,
   "eqNumInitial": 1,
   "labels_anchors": false,
   "latex_user_defs": false,
   "report_style_numbering": false,
   "user_envs_cfg": false
  }
 },
 "nbformat": 4,
 "nbformat_minor": 2
}
